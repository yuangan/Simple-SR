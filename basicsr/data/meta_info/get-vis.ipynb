{
 "cells": [
  {
   "cell_type": "code",
   "execution_count": 8,
   "metadata": {},
   "outputs": [],
   "source": [
    "import random\n",
    "import shutil\n",
    "\n",
    "# rows = random.sample(range(2000),20)\n",
    "# w=0\n",
    "# with open('YTB-2_test.txt','r') as f:\n",
    "#     for lines in f:\n",
    "#         if w in rows:\n",
    "#             p = lines[:10]\n",
    "#             path_L = '/home/wei/exp/EDVR/datasets/YTB-2/LR/'+p+'/'\n",
    "#             path_G = '/home/wei/exp/EDVR/datasets/YTB-2/GT/'+p+'/'\n",
    "#             path_output_G = '/home/wei/exp/EDVR/results/YTB-vis/visualization/REDS4/'+p +'/GT'\n",
    "#             path_output_L = '/home/wei/exp/EDVR/results/YTB-vis/visualization/REDS4/'+p +'/LR'\n",
    "#             with open('YTB2-vis.txt','a+') as f:\n",
    "#                 f.write(lines)\n",
    "#             shutil.copytree(path_L,path_output_L)\n",
    "#             shutil.copytree(path_G,path_output_G)\n",
    "#         w+=1\n",
    "#         if w >2000:\n",
    "#             break"
   ]
  },
  {
   "cell_type": "code",
   "execution_count": 13,
   "metadata": {},
   "outputs": [
    {
     "name": "stdout",
     "output_type": "stream",
     "text": [
      "00006/0012\n",
      "00011/0029\n",
      "00013/0031\n",
      "00024/0010\n",
      "00024/0034\n",
      "00039/0048\n",
      "00051/0005\n",
      "00052/0205\n",
      "00053/0013\n",
      "00053/0049\n",
      "00067/0051\n",
      "00067/0054\n",
      "00067/0118\n",
      "00068/0038\n",
      "00078/0003\n",
      "00078/0015\n",
      "00080/0007\n",
      "00080/0093\n",
      "00080/0103\n",
      "00086/0117\n"
     ]
    }
   ],
   "source": [
    "with open('3d_vis.txt','r') as f:\n",
    "    for lines in f:\n",
    "        p = lines[:10]\n",
    "        path_L = '/home/wei/exp/EDVR/datasets/YTB-2/LR/'+p+'/'\n",
    "        path_G = '/home/wei/exp/EDVR/datasets/YTB-2/GT/'+p+'/'\n",
    "        path_output_G = '/home/wei/exp/EDVR/results/YTB-vis/visualization/REDS4/'+'/GT'+p[5:10]\n",
    "        path_output_L = '/home/wei/exp/EDVR/results/YTB-vis/visualization/REDS4/'+'/LR'+p[5:10]\n",
    "        shutil.copytree(path_L,path_output_L)\n",
    "        shutil.copytree(path_G,path_output_G)\n",
    "        print(p)"
   ]
  },
  {
   "cell_type": "code",
   "execution_count": null,
   "metadata": {},
   "outputs": [],
   "source": []
  }
 ],
 "metadata": {
  "kernelspec": {
   "display_name": "Python 3",
   "language": "python",
   "name": "python3"
  },
  "language_info": {
   "codemirror_mode": {
    "name": "ipython",
    "version": 3
   },
   "file_extension": ".py",
   "mimetype": "text/x-python",
   "name": "python",
   "nbconvert_exporter": "python",
   "pygments_lexer": "ipython3",
   "version": "3.8.3"
  }
 },
 "nbformat": 4,
 "nbformat_minor": 4
}
