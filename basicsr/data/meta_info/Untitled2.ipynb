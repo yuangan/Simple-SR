{
 "cells": [
  {
   "cell_type": "code",
   "execution_count": 11,
   "metadata": {},
   "outputs": [],
   "source": [
    "l=[]\n",
    "with open('nan.txt','r') as f:\n",
    "    for lines in f:\n",
    "        l.append(lines.replace('\\n','').replace(' ','/'))\n"
   ]
  },
  {
   "cell_type": "code",
   "execution_count": 13,
   "metadata": {},
   "outputs": [
    {
     "name": "stdout",
     "output_type": "stream",
     "text": [
      "hhh\n",
      "hhh\n",
      "hhh\n",
      "hhh\n",
      "hhh\n",
      "hhh\n",
      "hhh\n",
      "hhh\n"
     ]
    }
   ],
   "source": [
    "with open('3d_test.txt','r') as f:\n",
    "    lines = f.readlines()\n",
    "with open('n3d_test.txt','w') as f:\n",
    "    for line in lines:\n",
    "        if (line[:10] in l):\n",
    "            print('hhh')\n",
    "        else:\n",
    "            f.write(line)"
   ]
  },
  {
   "cell_type": "code",
   "execution_count": 14,
   "metadata": {},
   "outputs": [
    {
     "name": "stdout",
     "output_type": "stream",
     "text": [
      "hhh\n"
     ]
    }
   ],
   "source": [
    "with open('3d_train.txt','r') as f:\n",
    "    lines = f.readlines()\n",
    "with open('n3d_train.txt','w') as f:\n",
    "    for line in lines:\n",
    "        if (line[:10] in l):\n",
    "            print('hhh')\n",
    "        else:\n",
    "            f.write(line)"
   ]
  },
  {
   "cell_type": "code",
   "execution_count": 15,
   "metadata": {},
   "outputs": [],
   "source": [
    "with open('3d_val.txt','r') as f:\n",
    "    lines = f.readlines()\n",
    "with open('n3d_val.txt','w') as f:\n",
    "    for line in lines:\n",
    "        if (line[:10] in l):\n",
    "            print('hhh')\n",
    "        else:\n",
    "            f.write(line)"
   ]
  },
  {
   "cell_type": "code",
   "execution_count": 16,
   "metadata": {},
   "outputs": [],
   "source": [
    "with open('3d_vis.txt','r') as f:\n",
    "    lines = f.readlines()\n",
    "with open('n3d_vis.txt','w') as f:\n",
    "    for line in lines:\n",
    "        if (line[:10] in l):\n",
    "            print('hhh')\n",
    "        else:\n",
    "            f.write(line)"
   ]
  },
  {
   "cell_type": "code",
   "execution_count": null,
   "metadata": {},
   "outputs": [],
   "source": []
  }
 ],
 "metadata": {
  "kernelspec": {
   "display_name": "Python 3",
   "language": "python",
   "name": "python3"
  },
  "language_info": {
   "codemirror_mode": {
    "name": "ipython",
    "version": 3
   },
   "file_extension": ".py",
   "mimetype": "text/x-python",
   "name": "python",
   "nbconvert_exporter": "python",
   "pygments_lexer": "ipython3",
   "version": "3.8.3"
  }
 },
 "nbformat": 4,
 "nbformat_minor": 4
}
